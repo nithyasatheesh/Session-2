{
 "cells": [
  {
   "cell_type": "code",
   "execution_count": null,
   "id": "f8a012d2",
   "metadata": {},
   "outputs": [],
   "source": [
    "# check whether the given number is lies between 5 and 15 or not."
   ]
  },
  {
   "cell_type": "code",
   "execution_count": null,
   "id": "058fafda",
   "metadata": {},
   "outputs": [],
   "source": [
    "# Write a program to check whether a person is eligible for voting or not. (accept age from user)"
   ]
  },
  {
   "cell_type": "code",
   "execution_count": null,
   "id": "c146d9e2",
   "metadata": {},
   "outputs": [],
   "source": [
    "# Write a program to check whether a number is divisible by 7 or not."
   ]
  },
  {
   "cell_type": "code",
   "execution_count": null,
   "id": "aea6dcc3",
   "metadata": {},
   "outputs": [],
   "source": [
    "# Find maximum number out of given three numbers."
   ]
  }
 ],
 "metadata": {
  "kernelspec": {
   "display_name": "Python 3 (ipykernel)",
   "language": "python",
   "name": "python3"
  },
  "language_info": {
   "codemirror_mode": {
    "name": "ipython",
    "version": 3
   },
   "file_extension": ".py",
   "mimetype": "text/x-python",
   "name": "python",
   "nbconvert_exporter": "python",
   "pygments_lexer": "ipython3",
   "version": "3.9.13"
  }
 },
 "nbformat": 4,
 "nbformat_minor": 5
}
