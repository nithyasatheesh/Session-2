{
 "cells": [
  {
   "cell_type": "markdown",
   "id": "363d9c5a",
   "metadata": {},
   "source": [
    "### Strings"
   ]
  },
  {
   "cell_type": "raw",
   "id": "b6efc49c",
   "metadata": {},
   "source": [
    "1.print all words with even length in the given string.\n",
    " \n",
    " Input: s = \"This is a python language\"\n",
    "Output: This is python language\n",
    "\n",
    "Input: s = \"i am laxmi\"\n",
    "Output: am"
   ]
  },
  {
   "cell_type": "markdown",
   "id": "1eb9f344",
   "metadata": {},
   "source": [
    "### List"
   ]
  },
  {
   "cell_type": "code",
   "execution_count": null,
   "id": "eca3cc58",
   "metadata": {},
   "outputs": [],
   "source": [
    "#2.Find the largest item from a given list\n",
    "x = [4, 6, 8, 24, 12, 2]"
   ]
  },
  {
   "cell_type": "code",
   "execution_count": null,
   "id": "8799fc4b",
   "metadata": {},
   "outputs": [],
   "source": [
    "#3.Reverse a list in Python\n",
    "list1 = [100, 200, 300, 400, 500]"
   ]
  },
  {
   "cell_type": "code",
   "execution_count": null,
   "id": "7acf8815",
   "metadata": {},
   "outputs": [],
   "source": [
    "#4. Turn every item of a list into its square\n",
    "#Given a list of numbers. write a program to turn every item of a list into its square.\n",
    "numbers = [1, 2, 3, 4, 5, 6, 7]\n",
    "#Expected output:\n",
    "\n",
    "#[1, 4, 9, 16, 25, 36, 49]"
   ]
  },
  {
   "cell_type": "markdown",
   "id": "58a4519c",
   "metadata": {},
   "source": [
    "### Tuple"
   ]
  },
  {
   "cell_type": "raw",
   "id": "d55eeb72",
   "metadata": {},
   "source": [
    "#5. Find the sum of tuple elements\n",
    "test_tup = (7, 8, 9, 1, 10, 7)"
   ]
  },
  {
   "cell_type": "raw",
   "id": "d5b57274",
   "metadata": {},
   "source": [
    "6. Counts the number of occurrences of item 50 from a tuple\n",
    "Given:\n",
    "\n",
    "tuple1 = (50, 10, 60, 70, 50)"
   ]
  },
  {
   "cell_type": "markdown",
   "id": "c8524597",
   "metadata": {},
   "source": [
    "### Dictionary"
   ]
  },
  {
   "cell_type": "code",
   "execution_count": null,
   "id": "94ebca25",
   "metadata": {},
   "outputs": [],
   "source": [
    "7. Rename key of a dictionary\n",
    "Write a program to rename a key city to a location in the following dictionary.\n",
    "sample_dict = {\n",
    "  \"name\": \"Kelly\",\n",
    "  \"age\":25,\n",
    "  \"salary\": 8000,\n",
    "  \"city\": \"New york\"\n",
    "}\n",
    "Expected output:\n",
    "\n",
    "{'name': 'Kelly', 'age': 25, 'salary': 8000, 'location': 'New york'}"
   ]
  }
 ],
 "metadata": {
  "kernelspec": {
   "display_name": "Python 3 (ipykernel)",
   "language": "python",
   "name": "python3"
  },
  "language_info": {
   "codemirror_mode": {
    "name": "ipython",
    "version": 3
   },
   "file_extension": ".py",
   "mimetype": "text/x-python",
   "name": "python",
   "nbconvert_exporter": "python",
   "pygments_lexer": "ipython3",
   "version": "3.9.13"
  }
 },
 "nbformat": 4,
 "nbformat_minor": 5
}
