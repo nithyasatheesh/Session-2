{
 "cells": [
  {
   "cell_type": "markdown",
   "id": "7afdb1f9",
   "metadata": {},
   "source": [
    "### Conditional Statments\n",
    "\n",
    "### Looping Structures\n",
    "\n",
    "### Functions\n",
    "\n",
    "### Data Strutures"
   ]
  },
  {
   "cell_type": "markdown",
   "id": "cceeb44c",
   "metadata": {},
   "source": [
    "### Conditional Statements\n",
    "\n",
    "1) if statements\n",
    "\n",
    "2) if-else statements\n",
    "\n",
    "3) elif statements\n",
    "\n",
    "4) Nested if-else statements"
   ]
  },
  {
   "cell_type": "markdown",
   "id": "2f1920f5",
   "metadata": {},
   "source": [
    "#syntax: if condition:\n",
    "             ## statements"
   ]
  },
  {
   "cell_type": "code",
   "execution_count": null,
   "id": "32d0fafc",
   "metadata": {},
   "outputs": [],
   "source": [
    "# check whether the given number is less than 15\n",
    "n=int(input())\n",
    "if n<15:\n",
    "    print(n,'is less than 15')"
   ]
  },
  {
   "cell_type": "markdown",
   "id": "6d4fa871",
   "metadata": {},
   "source": [
    "##### if-else statement "
   ]
  },
  {
   "cell_type": "raw",
   "id": "e9682ac6",
   "metadata": {},
   "source": [
    "Syntax:\n",
    "\n",
    "If (EXPRESSION == TRUE):\n",
    "\n",
    "        Statement (Body of the block)\n",
    "        \n",
    "else:\n",
    "\n",
    "        Statement (Body of the block)"
   ]
  },
  {
   "cell_type": "code",
   "execution_count": null,
   "id": "4edcc8fc",
   "metadata": {},
   "outputs": [],
   "source": []
  },
  {
   "cell_type": "markdown",
   "id": "ff67f7fa",
   "metadata": {},
   "source": [
    "#### elif statements\n",
    "Syntax:\n",
    "\n",
    "if (condition):\n",
    "\n",
    "        #Set of statement to execute if condition is true\n",
    "elif (condition):\n",
    "\n",
    "        #Set of statements to be executed when if condition is false and elif condition is true\n",
    "else:\n",
    "\n",
    "   #Set of statement to be executed when both if and elif conditions are false"
   ]
  },
  {
   "cell_type": "code",
   "execution_count": null,
   "id": "58ed73a1",
   "metadata": {},
   "outputs": [],
   "source": [
    "# write a program to check the given number is positive or negative or zero"
   ]
  },
  {
   "cell_type": "code",
   "execution_count": null,
   "id": "05b6b022",
   "metadata": {},
   "outputs": [],
   "source": []
  },
  {
   "cell_type": "markdown",
   "id": "1b931ba1",
   "metadata": {},
   "source": [
    "#### Nested if-else statements\n",
    "\n",
    "if(condition):\n",
    "\n",
    "       #Statements to execute if condition is true\n",
    "       if(condition):\n",
    "\n",
    "                #Statements to execute if condition is true\n",
    "       #end of nested if\n",
    "#end of if"
   ]
  },
  {
   "cell_type": "code",
   "execution_count": null,
   "id": "73f97362",
   "metadata": {},
   "outputs": [],
   "source": []
  },
  {
   "cell_type": "markdown",
   "id": "39de3b40",
   "metadata": {},
   "source": [
    "### Loops\n",
    "     \n",
    "        - For loop\n",
    "        \n",
    "        - While loop\n",
    "        \n",
    "        - control statements\n"
   ]
  },
  {
   "cell_type": "markdown",
   "id": "b8cb39e7",
   "metadata": {},
   "source": [
    "#### Loops\n",
    "  - For loop\n",
    "    \n",
    "    The for loop in Python is used to iterate over a sequence (list, tuple, string) or other iterable objects. Iterating over a sequence is called traversal.\n",
    "\n",
    "    Loop continues until we reach the last item in the sequence. The body of for loop is separated from the rest of the code using indentation"
   ]
  },
  {
   "cell_type": "code",
   "execution_count": null,
   "id": "206520ad",
   "metadata": {},
   "outputs": [],
   "source": [
    "### For loop\n",
    "#syntax: for i in iterbale:\n",
    "             #statements"
   ]
  },
  {
   "cell_type": "code",
   "execution_count": null,
   "id": "1614aece",
   "metadata": {},
   "outputs": [],
   "source": []
  },
  {
   "cell_type": "code",
   "execution_count": null,
   "id": "4efaea19",
   "metadata": {},
   "outputs": [],
   "source": []
  },
  {
   "cell_type": "markdown",
   "id": "f943e6c0",
   "metadata": {},
   "source": [
    "#### while loop\n",
    "\n",
    "- The while loop in Python is used to iterate over a block of code as long as the test expression (condition) is true.\n",
    "\n",
    "##### syntax: while expression:\n",
    "             #statements"
   ]
  },
  {
   "cell_type": "markdown",
   "id": "3a43909a",
   "metadata": {},
   "source": [
    "### continue, break and pass"
   ]
  },
  {
   "cell_type": "code",
   "execution_count": null,
   "id": "0dc5c1f6",
   "metadata": {},
   "outputs": [],
   "source": []
  },
  {
   "cell_type": "code",
   "execution_count": null,
   "id": "f902791b",
   "metadata": {},
   "outputs": [],
   "source": []
  },
  {
   "cell_type": "code",
   "execution_count": null,
   "id": "8fb47df4",
   "metadata": {},
   "outputs": [],
   "source": []
  },
  {
   "cell_type": "markdown",
   "id": "7dee48d2",
   "metadata": {},
   "source": [
    "### Functions"
   ]
  },
  {
   "cell_type": "markdown",
   "id": "d1f6fb8b",
   "metadata": {},
   "source": [
    "In Python, a function is a group of related statements that performs a specific task.\n",
    "\n",
    "Functions help break our program into smaller and modular chunks. As our program grows larger and larger, functions make it more organized and manageable."
   ]
  },
  {
   "cell_type": "markdown",
   "id": "b5a1c275",
   "metadata": {},
   "source": [
    "#### Function arguments\n",
    "Information can be passed into functions as arguments. Arguments are specified after the function name, inside the parentheses. You can add as many arguments.\n",
    "A parameter is the variable listed inside the parentheses in the function definition. An argument is the value that are sent to the function when it is called."
   ]
  },
  {
   "cell_type": "markdown",
   "id": "fe81ac8c",
   "metadata": {},
   "source": [
    "- user defined function\n",
    "\n",
    "- built -in - function\n",
    "\n",
    "- Anonymous function (lambda function)"
   ]
  },
  {
   "cell_type": "markdown",
   "id": "78835512",
   "metadata": {},
   "source": [
    "##### user defined function\n",
    "\n",
    "def function_name(parameters):\n",
    "\n",
    "\t\"\"\"docstring\"\"\"\n",
    "\t\n",
    "\tstatement(s)"
   ]
  },
  {
   "cell_type": "code",
   "execution_count": null,
   "id": "355e0b38",
   "metadata": {},
   "outputs": [],
   "source": []
  },
  {
   "cell_type": "code",
   "execution_count": null,
   "id": "1828680d",
   "metadata": {},
   "outputs": [],
   "source": []
  },
  {
   "cell_type": "markdown",
   "id": "8ff9c6b2",
   "metadata": {},
   "source": [
    "### Data Structures\n",
    "\n",
    "         - Lists\n",
    "    \n",
    "         - Tuple\n",
    "        \n",
    "         - Dictionary\n",
    "            \n",
    "         - Set\n",
    "        \n",
    "- List Comprehension"
   ]
  },
  {
   "cell_type": "markdown",
   "id": "27a02929",
   "metadata": {},
   "source": [
    "##### Lists\n",
    "\n",
    "An ordered sequence of values enclosed within [ ].\n",
    "\n",
    "- List can be created by [] or list()\n",
    "\n",
    "- Lists are mutable : Can do changes\n",
    "\n",
    "-  List can contain multiple data types\n",
    "\n",
    "- Lists are iterables"
   ]
  },
  {
   "cell_type": "code",
   "execution_count": null,
   "id": "097ced72",
   "metadata": {},
   "outputs": [],
   "source": []
  },
  {
   "cell_type": "code",
   "execution_count": null,
   "id": "dbd47fe5",
   "metadata": {},
   "outputs": [],
   "source": []
  },
  {
   "cell_type": "code",
   "execution_count": null,
   "id": "cc36b1e5",
   "metadata": {},
   "outputs": [],
   "source": []
  },
  {
   "cell_type": "code",
   "execution_count": null,
   "id": "a24695bb",
   "metadata": {},
   "outputs": [],
   "source": []
  },
  {
   "cell_type": "markdown",
   "id": "307d4fec",
   "metadata": {},
   "source": [
    "### Tuple\n",
    "\n",
    "- A tuple is a sequence of items\n",
    "- tuple is created by using () or tuple()\n",
    "- tuple contains mixed data type\n",
    "- tuples are immutable\n",
    "- tuples are iterable"
   ]
  },
  {
   "cell_type": "code",
   "execution_count": null,
   "id": "18b49292",
   "metadata": {},
   "outputs": [],
   "source": []
  },
  {
   "cell_type": "code",
   "execution_count": null,
   "id": "c6c642a3",
   "metadata": {},
   "outputs": [],
   "source": []
  },
  {
   "cell_type": "code",
   "execution_count": null,
   "id": "d806ac9b",
   "metadata": {},
   "outputs": [],
   "source": []
  },
  {
   "cell_type": "code",
   "execution_count": null,
   "id": "5ffaa297",
   "metadata": {},
   "outputs": [],
   "source": []
  },
  {
   "cell_type": "markdown",
   "id": "b89fa9d1",
   "metadata": {},
   "source": [
    "#### Dictionary\n",
    "A collection of unordered set of key:value pairs.\n",
    "\n",
    "- Create dictionaries by using {} or dict()\n",
    "\n",
    "- Keys are unique.\n",
    "\n",
    "- values are accessed by using keys, not by index\n",
    "\n",
    "- Dictionaries are mutable.\n",
    "\n",
    "- Dicitonaries are iterables."
   ]
  },
  {
   "cell_type": "code",
   "execution_count": null,
   "id": "3005e61b",
   "metadata": {},
   "outputs": [],
   "source": []
  },
  {
   "cell_type": "code",
   "execution_count": null,
   "id": "55445bc1",
   "metadata": {},
   "outputs": [],
   "source": []
  },
  {
   "cell_type": "code",
   "execution_count": null,
   "id": "86c994c3",
   "metadata": {},
   "outputs": [],
   "source": []
  },
  {
   "cell_type": "code",
   "execution_count": null,
   "id": "c6aaf8be",
   "metadata": {},
   "outputs": [],
   "source": []
  },
  {
   "cell_type": "markdown",
   "id": "f89002b3",
   "metadata": {},
   "source": [
    "### Sets\n",
    "- Unordered sequence of elements\n",
    "\n",
    "- create set objects by using {} or set()\n",
    "\n",
    "- sets are immutable\n"
   ]
  },
  {
   "cell_type": "code",
   "execution_count": null,
   "id": "a8ade405",
   "metadata": {},
   "outputs": [],
   "source": []
  },
  {
   "cell_type": "code",
   "execution_count": null,
   "id": "3c7996e1",
   "metadata": {},
   "outputs": [],
   "source": []
  },
  {
   "cell_type": "code",
   "execution_count": null,
   "id": "6cd16635",
   "metadata": {},
   "outputs": [],
   "source": []
  },
  {
   "cell_type": "code",
   "execution_count": null,
   "id": "472ccafe",
   "metadata": {},
   "outputs": [],
   "source": []
  },
  {
   "cell_type": "code",
   "execution_count": null,
   "id": "4224e900",
   "metadata": {},
   "outputs": [],
   "source": []
  },
  {
   "cell_type": "code",
   "execution_count": null,
   "id": "4cee6dac",
   "metadata": {},
   "outputs": [],
   "source": []
  }
 ],
 "metadata": {
  "kernelspec": {
   "display_name": "Python 3 (ipykernel)",
   "language": "python",
   "name": "python3"
  },
  "language_info": {
   "codemirror_mode": {
    "name": "ipython",
    "version": 3
   },
   "file_extension": ".py",
   "mimetype": "text/x-python",
   "name": "python",
   "nbconvert_exporter": "python",
   "pygments_lexer": "ipython3",
   "version": "3.9.13"
  }
 },
 "nbformat": 4,
 "nbformat_minor": 5
}
